{
 "cells": [
  {
   "cell_type": "markdown",
   "metadata": {},
   "source": [
    "<center>\n",
    "    <img src=\"https://gitlab.com/ibm/skills-network/courses/placeholder101/-/raw/master/labs/module%201/images/IDSNlogo.png\" width=\"300\" alt=\"cognitiveclass.ai logo\"  />\n",
    "</center>\n"
   ]
  },
  {
   "cell_type": "markdown",
   "metadata": {},
   "source": [
    "# Peer Review Assignment - Data Engineer - Extract API Data\n"
   ]
  },
  {
   "cell_type": "markdown",
   "metadata": {},
   "source": [
    "Estimated time needed: **20** minutes\n"
   ]
  },
  {
   "cell_type": "markdown",
   "metadata": {},
   "source": [
    "## Objectives\n",
    "\n",
    "In this part you will:\n",
    "\n",
    "-   Collect exchange rate data using an API\n",
    "-   Store the data as a CSV\n"
   ]
  },
  {
   "cell_type": "markdown",
   "metadata": {},
   "source": [
    "For this lab, we are going to be using Python and several Python libraries. Some of these libraries might be installed in your lab environment or in SN Labs. Others may need to be installed by you. The cells below will install these libraries when executed.\n"
   ]
  },
  {
   "cell_type": "code",
   "execution_count": 75,
   "metadata": {},
   "outputs": [],
   "source": [
    "#!pip install pandas\n",
    "#!pip install requests"
   ]
  },
  {
   "cell_type": "markdown",
   "metadata": {},
   "source": [
    "## Imports\n",
    "\n",
    "Import any additional libraries you may need here.\n"
   ]
  },
  {
   "cell_type": "code",
   "execution_count": 76,
   "metadata": {},
   "outputs": [],
   "source": [
    "import requests\n",
    "import pandas as pd"
   ]
  },
  {
   "cell_type": "markdown",
   "metadata": {},
   "source": [
    "## Extract Data Using an API\n"
   ]
  },
  {
   "cell_type": "markdown",
   "metadata": {},
   "source": [
    "Using ExchangeRate-API we will extract currency exchange rate data. Use the below steps to get the access key and to get the data. \n",
    "\n",
    "1.  Open the url : [https://api.exchangeratesapi.io/](https://api.exchangeratesapi.io?cm_mmc=Email_Newsletter-_-Developer_Ed%2BTech-_-WW_WW-_-SkillsNetwork-Courses-IBMDeveloperSkillsNetwork-PY0221EN-SkillsNetwork-23455645&cm_mmca1=000026UJ&cm_mmca2=10006555&cm_mmca3=M12345678&cvosrc=email.Newsletter.M12345678&cvo_campaign=000026UJ&cm_mmc=Email_Newsletter-_-Developer_Ed%2BTech-_-WW_WW-_-SkillsNetwork-Courses-IBMDeveloperSkillsNetwork-PY0221EN-SkillsNetwork-23455645&cm_mmca1=000026UJ&cm_mmca2=10006555&cm_mmca3=M12345678&cvosrc=email.Newsletter.M12345678&cvo_campaign=000026UJ) and create a free account. \n",
    "2.  Once the account is created. You will get the Get the Free API key option on the top as shown below:\n",
    "\n",
    "<img src=\"https://cf-courses-data.s3.us.cloud-object-storage.appdomain.cloud/IBMDeveloperSkillsNetwork-PY0221EN-SkillsNetwork/labs/module%206/Final%20Assignment/Images/getapi.png\"/>\n",
    "\n",
    "3.  Copy the API key and use in the url in Question 1.\n"
   ]
  },
  {
   "cell_type": "markdown",
   "metadata": {},
   "source": [
    "### Call the API\n",
    "\n",
    " <b> Question 1</b> Using the `requests` library call the endpoint given above and save the text, remember the first few characters of the output: \n"
   ]
  },
  {
   "cell_type": "code",
   "execution_count": 77,
   "metadata": {},
   "outputs": [
    {
     "data": {
      "text/plain": [
       "'{\"success\":true,\"terms\":\"https:\\\\/\\\\/currencylayer.com\\\\/terms\",\"privacy\":\"https:\\\\/\\\\/currencylayer.com\\\\/privacy\",\"timestamp\":1621217584,\"source\":\"USD\",\"quotes\":{\"USDAED\":3.673099,\"USDAFN\":77.277804,\"USDALL\":101.311728,\"USDAMD\":522.284909,\"USDANG\":1.792159,\"USDAOA\":654.334499,\"USDARS\":93.870875,\"USDAUD\":1.289142,\"USDAWG\":1.801,\"USDAZN\":1.718493,\"USDBAM\":1.612039,\"USDBBD\":2.015932,\"USDBDT\":84.653312,\"USDBGN\":1.6104,\"USDBHD\":0.37724,\"USDBIF\":1972.421978,\"USDBMD\":1,\"USDBND\":1.331839,\"USDBOB\":6.884316,\"USDBRL\":5.271301,\"USDBSD\":0.998446,\"USDBTC\":2.2161247e-5,\"USDBTN\":73.158626,\"USDBWP\":10.747434,\"USDBYN\":2.517278,\"USDBYR\":19600,\"USDBZD\":2.012602,\"USDCAD\":1.212955,\"USDCDF\":1997.000041,\"USDCHF\":0.902315,\"USDCLF\":0.025361,\"USDCLP\":699.79766,\"USDCNY\":6.441304,\"USDCOP\":3685.51,\"USDCRC\":615.428362,\"USDCUC\":1,\"USDCUP\":26.5,\"USDCVE\":90.883615,\"USDCZK\":20.983962,\"USDDJF\":177.748839,\"USDDKK\":6.12972,\"USDDOP\":56.770668,\"USDDZD\":133.240747,\"USDEGP\":15.691102,\"USDERN\":15.00199,\"USDETB\":42.660381,\"USDEUR\":0.824299,\"USDFJD\":2.03545,\"USDFKP\":0.711515,\"USDGBP\":0.710125,\"USDGEL\":3.410382,\"USDGGP\":0.711515,\"USDGHS\":5.756086,\"USDGIP\":0.711515,\"USDGMD\":51.250279,\"USDGNF\":9838.001789,\"USDGTQ\":7.701038,\"USDGYD\":208.892607,\"USDHKD\":7.76715,\"USDHNL\":23.948207,\"USDHRK\":6.188202,\"USDHTG\":89.809072,\"USDHUF\":292.844952,\"USDIDR\":14279.65,\"USDILS\":3.27497,\"USDIMP\":0.711515,\"USDINR\":73.302118,\"USDIQD\":1456.718386,\"USDIRR\":42104.999746,\"USDISK\":124.5502,\"USDJEP\":0.711515,\"USDJMD\":150.453521,\"USDJOD\":0.709026,\"USDJPY\":109.362032,\"USDKES\":107.029692,\"USDKGS\":84.621301,\"USDKHR\":4058.650688,\"USDKMF\":405.849747,\"USDKPW\":900.000118,\"USDKRW\":1132.534994,\"USDKWD\":0.300903,\"USDKYD\":0.832045,\"USDKZT\":427.487585,\"USDLAK\":9417.732995,\"USDLBP\":1505.536759,\"USDLKR\":196.69072,\"USDLRD\":171.874989,\"USDLSL\":14.119968,\"USDLTL\":2.95274,\"USDLVL\":0.60489,\"USDLYD\":4.45776,\"USDMAD\":8.847037,\"USDMDL\":17.75002,\"USDMGA\":3750.965354,\"USDMKD\":50.784454,\"USDMMK\":1555.054666,\"USDMNT\":2850.913096,\"USDMOP\":7.986895,\"USDMRO\":356.999828,\"USDMUR\":40.634157,\"USDMVR\":15.45034,\"USDMWK\":797.006474,\"USDMXN\":19.93841,\"USDMYR\":4.135799,\"USDMZN\":58.900997,\"USDNAD\":14.110156,\"USDNGN\":412.999715,\"USDNIO\":34.869796,\"USDNOK\":8.238065,\"USDNPR\":117.051641,\"USDNZD\":1.384505,\"USDOMR\":0.385276,\"USDPAB\":0.998463,\"USDPEN\":3.653448,\"USDPGK\":3.550608,\"USDPHP\":47.794506,\"USDPKR\":151.960998,\"USDPLN\":3.73205,\"USDPYG\":6658.204582,\"USDQAR\":3.640959,\"USDRON\":4.054984,\"USDRSD\":96.911253,\"USDRUB\":74.053001,\"USDRWF\":999.641469,\"USDSAR\":3.750301,\"USDSBD\":7.984064,\"USDSCR\":15.783596,\"USDSDG\":408.000174,\"USDSEK\":8.340399,\"USDSGD\":1.334977,\"USDSHP\":0.711515,\"USDSLL\":10250.000123,\"USDSOS\":584.999729,\"USDSRD\":14.154001,\"USDSTD\":20735.784508,\"USDSVC\":8.736684,\"USDSYP\":1257.535268,\"USDSZL\":14.099325,\"USDTHB\":31.413042,\"USDTJS\":11.387384,\"USDTMT\":3.5,\"USDTND\":2.726504,\"USDTOP\":2.26375,\"USDTRY\":8.450981,\"USDTTD\":6.777029,\"USDTWD\":28.045504,\"USDTZS\":2318.31406,\"USDUAH\":27.56912,\"USDUGX\":3529.513581,\"USDUSD\":1,\"USDUYU\":44.007055,\"USDUZS\":10534.450429,\"USDVEF\":213830222338.07285,\"USDVND\":23052,\"USDVUV\":108.407216,\"USDWST\":2.51595,\"USDXAF\":540.645438,\"USDXAG\":0.036238,\"USDXAU\":0.000541,\"USDXCD\":2.702551,\"USDXDR\":0.695385,\"USDXOF\":540.645438,\"USDXPF\":98.649706,\"USDYER\":250.049978,\"USDZAR\":14.147098,\"USDZMK\":9001.199786,\"USDZMW\":22.417793,\"USDZWL\":322.000305}}'"
      ]
     },
     "execution_count": 77,
     "metadata": {},
     "output_type": "execute_result"
    }
   ],
   "source": [
    "# Write your code here\n",
    "url = \"http://api.currencylayer.com/live?access_key=fabe62b82a8a2637778943c36cd5b308\"  #Make sure to change ******* to your API key.\n",
    "req = requests.get(url)\n",
    "req.status_code\n",
    "data = req.text\n",
    "data"
   ]
  },
  {
   "cell_type": "markdown",
   "metadata": {},
   "source": [
    "### Save as DataFrame\n",
    "\n",
    " <b> Question 2</b>  Using the data gathered turn it into a `pandas` dataframe. The dataframe should have the Currency as the index and `Rate` as their columns. Make sure to drop unnecessary columns.\n"
   ]
  },
  {
   "cell_type": "code",
   "execution_count": 79,
   "metadata": {
    "scrolled": true
   },
   "outputs": [
    {
     "data": {
      "text/html": [
       "<div>\n",
       "<style scoped>\n",
       "    .dataframe tbody tr th:only-of-type {\n",
       "        vertical-align: middle;\n",
       "    }\n",
       "\n",
       "    .dataframe tbody tr th {\n",
       "        vertical-align: top;\n",
       "    }\n",
       "\n",
       "    .dataframe thead th {\n",
       "        text-align: right;\n",
       "    }\n",
       "</style>\n",
       "<table border=\"1\" class=\"dataframe\">\n",
       "  <thead>\n",
       "    <tr style=\"text-align: right;\">\n",
       "      <th></th>\n",
       "      <th>Rate</th>\n",
       "    </tr>\n",
       "    <tr>\n",
       "      <th></th>\n",
       "      <th></th>\n",
       "    </tr>\n",
       "  </thead>\n",
       "  <tbody>\n",
       "    <tr>\n",
       "      <th>USDAED</th>\n",
       "      <td>3.673099</td>\n",
       "    </tr>\n",
       "    <tr>\n",
       "      <th>USDAFN</th>\n",
       "      <td>77.277804</td>\n",
       "    </tr>\n",
       "    <tr>\n",
       "      <th>USDALL</th>\n",
       "      <td>101.311728</td>\n",
       "    </tr>\n",
       "    <tr>\n",
       "      <th>USDAMD</th>\n",
       "      <td>522.284909</td>\n",
       "    </tr>\n",
       "    <tr>\n",
       "      <th>USDANG</th>\n",
       "      <td>1.792159</td>\n",
       "    </tr>\n",
       "    <tr>\n",
       "      <th>USDAOA</th>\n",
       "      <td>654.334499</td>\n",
       "    </tr>\n",
       "    <tr>\n",
       "      <th>USDARS</th>\n",
       "      <td>93.870875</td>\n",
       "    </tr>\n",
       "    <tr>\n",
       "      <th>USDAUD</th>\n",
       "      <td>1.289142</td>\n",
       "    </tr>\n",
       "    <tr>\n",
       "      <th>USDAWG</th>\n",
       "      <td>1.801</td>\n",
       "    </tr>\n",
       "    <tr>\n",
       "      <th>USDAZN</th>\n",
       "      <td>1.718493</td>\n",
       "    </tr>\n",
       "    <tr>\n",
       "      <th>USDBAM</th>\n",
       "      <td>1.612039</td>\n",
       "    </tr>\n",
       "    <tr>\n",
       "      <th>USDBBD</th>\n",
       "      <td>2.015932</td>\n",
       "    </tr>\n",
       "    <tr>\n",
       "      <th>USDBDT</th>\n",
       "      <td>84.653312</td>\n",
       "    </tr>\n",
       "    <tr>\n",
       "      <th>USDBGN</th>\n",
       "      <td>1.6104</td>\n",
       "    </tr>\n",
       "    <tr>\n",
       "      <th>USDBHD</th>\n",
       "      <td>0.37724</td>\n",
       "    </tr>\n",
       "    <tr>\n",
       "      <th>USDBIF</th>\n",
       "      <td>1972.421978</td>\n",
       "    </tr>\n",
       "    <tr>\n",
       "      <th>USDBMD</th>\n",
       "      <td>1</td>\n",
       "    </tr>\n",
       "    <tr>\n",
       "      <th>USDBND</th>\n",
       "      <td>1.331839</td>\n",
       "    </tr>\n",
       "    <tr>\n",
       "      <th>USDBOB</th>\n",
       "      <td>6.884316</td>\n",
       "    </tr>\n",
       "    <tr>\n",
       "      <th>USDBRL</th>\n",
       "      <td>5.271301</td>\n",
       "    </tr>\n",
       "    <tr>\n",
       "      <th>USDBSD</th>\n",
       "      <td>0.998446</td>\n",
       "    </tr>\n",
       "    <tr>\n",
       "      <th>USDBTC</th>\n",
       "      <td>2.2161247e-05</td>\n",
       "    </tr>\n",
       "    <tr>\n",
       "      <th>USDBTN</th>\n",
       "      <td>73.158626</td>\n",
       "    </tr>\n",
       "    <tr>\n",
       "      <th>USDBWP</th>\n",
       "      <td>10.747434</td>\n",
       "    </tr>\n",
       "    <tr>\n",
       "      <th>USDBYN</th>\n",
       "      <td>2.517278</td>\n",
       "    </tr>\n",
       "    <tr>\n",
       "      <th>USDBYR</th>\n",
       "      <td>19600</td>\n",
       "    </tr>\n",
       "    <tr>\n",
       "      <th>USDBZD</th>\n",
       "      <td>2.012602</td>\n",
       "    </tr>\n",
       "    <tr>\n",
       "      <th>USDCAD</th>\n",
       "      <td>1.212955</td>\n",
       "    </tr>\n",
       "    <tr>\n",
       "      <th>USDCDF</th>\n",
       "      <td>1997.000041</td>\n",
       "    </tr>\n",
       "    <tr>\n",
       "      <th>USDCHF</th>\n",
       "      <td>0.902315</td>\n",
       "    </tr>\n",
       "    <tr>\n",
       "      <th>...</th>\n",
       "      <td>...</td>\n",
       "    </tr>\n",
       "    <tr>\n",
       "      <th>USDTHB</th>\n",
       "      <td>31.413042</td>\n",
       "    </tr>\n",
       "    <tr>\n",
       "      <th>USDTJS</th>\n",
       "      <td>11.387384</td>\n",
       "    </tr>\n",
       "    <tr>\n",
       "      <th>USDTMT</th>\n",
       "      <td>3.5</td>\n",
       "    </tr>\n",
       "    <tr>\n",
       "      <th>USDTND</th>\n",
       "      <td>2.726504</td>\n",
       "    </tr>\n",
       "    <tr>\n",
       "      <th>USDTOP</th>\n",
       "      <td>2.26375</td>\n",
       "    </tr>\n",
       "    <tr>\n",
       "      <th>USDTRY</th>\n",
       "      <td>8.450981</td>\n",
       "    </tr>\n",
       "    <tr>\n",
       "      <th>USDTTD</th>\n",
       "      <td>6.777029</td>\n",
       "    </tr>\n",
       "    <tr>\n",
       "      <th>USDTWD</th>\n",
       "      <td>28.045504</td>\n",
       "    </tr>\n",
       "    <tr>\n",
       "      <th>USDTZS</th>\n",
       "      <td>2318.31406</td>\n",
       "    </tr>\n",
       "    <tr>\n",
       "      <th>USDUAH</th>\n",
       "      <td>27.56912</td>\n",
       "    </tr>\n",
       "    <tr>\n",
       "      <th>USDUGX</th>\n",
       "      <td>3529.513581</td>\n",
       "    </tr>\n",
       "    <tr>\n",
       "      <th>USDUSD</th>\n",
       "      <td>1</td>\n",
       "    </tr>\n",
       "    <tr>\n",
       "      <th>USDUYU</th>\n",
       "      <td>44.007055</td>\n",
       "    </tr>\n",
       "    <tr>\n",
       "      <th>USDUZS</th>\n",
       "      <td>10534.450429</td>\n",
       "    </tr>\n",
       "    <tr>\n",
       "      <th>USDVEF</th>\n",
       "      <td>213830222338.07285</td>\n",
       "    </tr>\n",
       "    <tr>\n",
       "      <th>USDVND</th>\n",
       "      <td>23052</td>\n",
       "    </tr>\n",
       "    <tr>\n",
       "      <th>USDVUV</th>\n",
       "      <td>108.407216</td>\n",
       "    </tr>\n",
       "    <tr>\n",
       "      <th>USDWST</th>\n",
       "      <td>2.51595</td>\n",
       "    </tr>\n",
       "    <tr>\n",
       "      <th>USDXAF</th>\n",
       "      <td>540.645438</td>\n",
       "    </tr>\n",
       "    <tr>\n",
       "      <th>USDXAG</th>\n",
       "      <td>0.036238</td>\n",
       "    </tr>\n",
       "    <tr>\n",
       "      <th>USDXAU</th>\n",
       "      <td>0.000541</td>\n",
       "    </tr>\n",
       "    <tr>\n",
       "      <th>USDXCD</th>\n",
       "      <td>2.702551</td>\n",
       "    </tr>\n",
       "    <tr>\n",
       "      <th>USDXDR</th>\n",
       "      <td>0.695385</td>\n",
       "    </tr>\n",
       "    <tr>\n",
       "      <th>USDXOF</th>\n",
       "      <td>540.645438</td>\n",
       "    </tr>\n",
       "    <tr>\n",
       "      <th>USDXPF</th>\n",
       "      <td>98.649706</td>\n",
       "    </tr>\n",
       "    <tr>\n",
       "      <th>USDYER</th>\n",
       "      <td>250.049978</td>\n",
       "    </tr>\n",
       "    <tr>\n",
       "      <th>USDZAR</th>\n",
       "      <td>14.147098</td>\n",
       "    </tr>\n",
       "    <tr>\n",
       "      <th>USDZMK</th>\n",
       "      <td>9001.199786</td>\n",
       "    </tr>\n",
       "    <tr>\n",
       "      <th>USDZMW</th>\n",
       "      <td>22.417793</td>\n",
       "    </tr>\n",
       "    <tr>\n",
       "      <th>USDZWL</th>\n",
       "      <td>322.000305</td>\n",
       "    </tr>\n",
       "  </tbody>\n",
       "</table>\n",
       "<p>168 rows × 1 columns</p>\n",
       "</div>"
      ],
      "text/plain": [
       "                      Rate\n",
       "                          \n",
       "USDAED            3.673099\n",
       "USDAFN           77.277804\n",
       "USDALL          101.311728\n",
       "USDAMD          522.284909\n",
       "USDANG            1.792159\n",
       "USDAOA          654.334499\n",
       "USDARS           93.870875\n",
       "USDAUD            1.289142\n",
       "USDAWG               1.801\n",
       "USDAZN            1.718493\n",
       "USDBAM            1.612039\n",
       "USDBBD            2.015932\n",
       "USDBDT           84.653312\n",
       "USDBGN              1.6104\n",
       "USDBHD             0.37724\n",
       "USDBIF         1972.421978\n",
       "USDBMD                   1\n",
       "USDBND            1.331839\n",
       "USDBOB            6.884316\n",
       "USDBRL            5.271301\n",
       "USDBSD            0.998446\n",
       "USDBTC       2.2161247e-05\n",
       "USDBTN           73.158626\n",
       "USDBWP           10.747434\n",
       "USDBYN            2.517278\n",
       "USDBYR               19600\n",
       "USDBZD            2.012602\n",
       "USDCAD            1.212955\n",
       "USDCDF         1997.000041\n",
       "USDCHF            0.902315\n",
       "...                    ...\n",
       "USDTHB           31.413042\n",
       "USDTJS           11.387384\n",
       "USDTMT                 3.5\n",
       "USDTND            2.726504\n",
       "USDTOP             2.26375\n",
       "USDTRY            8.450981\n",
       "USDTTD            6.777029\n",
       "USDTWD           28.045504\n",
       "USDTZS          2318.31406\n",
       "USDUAH            27.56912\n",
       "USDUGX         3529.513581\n",
       "USDUSD                   1\n",
       "USDUYU           44.007055\n",
       "USDUZS        10534.450429\n",
       "USDVEF  213830222338.07285\n",
       "USDVND               23052\n",
       "USDVUV          108.407216\n",
       "USDWST             2.51595\n",
       "USDXAF          540.645438\n",
       "USDXAG            0.036238\n",
       "USDXAU            0.000541\n",
       "USDXCD            2.702551\n",
       "USDXDR            0.695385\n",
       "USDXOF          540.645438\n",
       "USDXPF           98.649706\n",
       "USDYER          250.049978\n",
       "USDZAR           14.147098\n",
       "USDZMK         9001.199786\n",
       "USDZMW           22.417793\n",
       "USDZWL          322.000305\n",
       "\n",
       "[168 rows x 1 columns]"
      ]
     },
     "execution_count": 79,
     "metadata": {},
     "output_type": "execute_result"
    }
   ],
   "source": [
    "# Turn the data into a dataframe\n",
    "\n",
    "from bs4 import BeautifulSoup\n",
    "import json #we see all these { letting us know it a dictionary. Therefore, this is a json file\n",
    "\n",
    "data_dict = json.loads(data) #data is type string, but we know it appears as a dict on the webpage. So us json.loads() to remove outer\n",
    "                     #'' and convert to a dict\n",
    "quote_data = data_dict['quotes']\n",
    "\n",
    "dataframe = pd.DataFrame(columns =[\"\", \"Rate\"])\n",
    "\n",
    "for key,val in quote_data.items():\n",
    "    dataframe = dataframe.append({\"\": key, \"Rate\":format(val)}, ignore_index = True)\n",
    "        \n",
    "dataframe.set_index(\"\", inplace=True)\n",
    "dataframe\n"
   ]
  },
  {
   "cell_type": "code",
   "execution_count": null,
   "metadata": {},
   "outputs": [],
   "source": [
    "# Drop unnescessary columns\n"
   ]
  },
  {
   "cell_type": "markdown",
   "metadata": {},
   "source": [
    "### Load the Data\n",
    "\n",
    "Using the dataframe save it as a CSV names `exchange_rates_1.csv`.\n"
   ]
  },
  {
   "cell_type": "code",
   "execution_count": null,
   "metadata": {},
   "outputs": [],
   "source": [
    "# Save the Dataframe\n",
    "dataframe.to_csv(\"exchange_rates_1.csv\")"
   ]
  },
  {
   "cell_type": "markdown",
   "metadata": {},
   "source": [
    "Your CSV should be in this format with more currencies\n",
    "\n",
    "|     | Rates      |\n",
    "| --- | ---------- |\n",
    "| AED | 4.398618   |\n",
    "| AFN | 92.917693  |\n",
    "| ALL | 123.099093 |\n",
    "| AMD | 621.935674 |\n",
    "| ANG | 2.149648   |\n"
   ]
  },
  {
   "cell_type": "markdown",
   "metadata": {},
   "source": [
    "## Authors\n"
   ]
  },
  {
   "cell_type": "markdown",
   "metadata": {},
   "source": [
    "Ramesh Sannareddy, Joseph Santarcangelo and Azim Hirjani\n"
   ]
  },
  {
   "cell_type": "markdown",
   "metadata": {},
   "source": [
    "### Other Contributors\n"
   ]
  },
  {
   "cell_type": "markdown",
   "metadata": {},
   "source": [
    "Rav Ahuja\n"
   ]
  },
  {
   "cell_type": "markdown",
   "metadata": {},
   "source": [
    "## Change Log\n"
   ]
  },
  {
   "cell_type": "markdown",
   "metadata": {},
   "source": [
    "| Date (YYYY-MM-DD) | Version | Changed By        | Change Description                 |\n",
    "| ----------------- | ------- | ----------------- | ---------------------------------- |\n",
    "| 2021-04-15        | 0.2     | Malika            | Updated the lab from USD to EUR    |\n",
    "| 2020-11-25        | 0.1     | Ramesh Sannareddy | Created initial version of the lab |\n"
   ]
  },
  {
   "cell_type": "markdown",
   "metadata": {},
   "source": [
    " Copyright © 2020 IBM Corporation. This notebook and its source code are released under the terms of the [MIT License](https://cognitiveclass.ai/mit-license?cm_mmc=Email_Newsletter-_-Developer_Ed%2BTech-_-WW_WW-_-SkillsNetwork-Courses-IBM-DA0321EN-SkillsNetwork-21426264&cm_mmca1=000026UJ&cm_mmca2=10006555&cm_mmca3=M12345678&cvosrc=email.Newsletter.M12345678&cvo_campaign=000026UJ&cm_mmc=Email_Newsletter-_-Developer_Ed%2BTech-_-WW_WW-_-SkillsNetwork-Courses-IBM-DA0321EN-SkillsNetwork-21426264&cm_mmca1=000026UJ&cm_mmca2=10006555&cm_mmca3=M12345678&cvosrc=email.Newsletter.M12345678&cvo_campaign=000026UJ&cm_mmc=Email_Newsletter-_-Developer_Ed%2BTech-_-WW_WW-_-SkillsNetwork-Courses-IBM-DA0321EN-SkillsNetwork-21426264&cm_mmca1=000026UJ&cm_mmca2=10006555&cm_mmca3=M12345678&cvosrc=email.Newsletter.M12345678&cvo_campaign=000026UJ&cm_mmc=Email_Newsletter-_-Developer_Ed%2BTech-_-WW_WW-_-SkillsNetwork-Courses-IBM-DA0321EN-SkillsNetwork-21426264&cm_mmca1=000026UJ&cm_mmca2=10006555&cm_mmca3=M12345678&cvosrc=email.Newsletter.M12345678&cvo_campaign=000026UJ&cm_mmc=Email_Newsletter-_-Developer_Ed%2BTech-_-WW_WW-_-SkillsNetwork-Courses-IBMDeveloperSkillsNetwork-PY0221EN-SkillsNetwork-23455645&cm_mmca1=000026UJ&cm_mmca2=10006555&cm_mmca3=M12345678&cvosrc=email.Newsletter.M12345678&cvo_campaign=000026UJ&cm_mmc=Email_Newsletter-_-Developer_Ed%2BTech-_-WW_WW-_-SkillsNetwork-Courses-IBMDeveloperSkillsNetwork-PY0221EN-SkillsNetwork-23455645&cm_mmca1=000026UJ&cm_mmca2=10006555&cm_mmca3=M12345678&cvosrc=email.Newsletter.M12345678&cvo_campaign=000026UJ).\n"
   ]
  }
 ],
 "metadata": {
  "kernelspec": {
   "display_name": "Python 3",
   "language": "python",
   "name": "python3"
  },
  "language_info": {
   "codemirror_mode": {
    "name": "ipython",
    "version": 3
   },
   "file_extension": ".py",
   "mimetype": "text/x-python",
   "name": "python",
   "nbconvert_exporter": "python",
   "pygments_lexer": "ipython3",
   "version": "3.6.8"
  }
 },
 "nbformat": 4,
 "nbformat_minor": 4
}
